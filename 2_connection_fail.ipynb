{
 "cells": [
  {
   "cell_type": "code",
   "execution_count": 1,
   "source": [
    "import redis"
   ],
   "outputs": [],
   "metadata": {}
  },
  {
   "cell_type": "code",
   "execution_count": 5,
   "source": [
    "host = \"255.255.255.255\"\r\n",
    "port = \"6379\"\r\n",
    "conn = redis.StrictRedis(\r\n",
    "    host = host,\r\n",
    "    port = port,\r\n",
    "    db = 0,\r\n",
    "    decode_responses=True\r\n",
    ")"
   ],
   "outputs": [],
   "metadata": {}
  },
  {
   "cell_type": "code",
   "execution_count": 11,
   "source": [
    "print(conn)"
   ],
   "outputs": [
    {
     "output_type": "stream",
     "name": "stdout",
     "text": [
      "Redis<ConnectionPool<Connection<host=255.255.255.255,port=6379,db=0>>>\n"
     ]
    }
   ],
   "metadata": {}
  },
  {
   "cell_type": "code",
   "execution_count": 17,
   "source": [
    "from redis.exceptions import ConnectionError\r\n",
    "try:\r\n",
    "    conn.keys()\r\n",
    "except ConnectionError as e:\r\n",
    "    print(f\"connection is failed: {e}\")\r\n",
    "    "
   ],
   "outputs": [
    {
     "output_type": "stream",
     "name": "stdout",
     "text": [
      "connection is failed: Error 10049 connecting to 255.255.255.255:6379. 요청한 주소는 해당 컨텍스트에서 유효하지 않습니다.\n"
     ]
    }
   ],
   "metadata": {}
  }
 ],
 "metadata": {
  "orig_nbformat": 4,
  "language_info": {
   "name": "python",
   "version": "3.9.6",
   "mimetype": "text/x-python",
   "codemirror_mode": {
    "name": "ipython",
    "version": 3
   },
   "pygments_lexer": "ipython3",
   "nbconvert_exporter": "python",
   "file_extension": ".py"
  },
  "kernelspec": {
   "name": "python3",
   "display_name": "Python 3.9.6 64-bit ('vevn': venv)"
  },
  "interpreter": {
   "hash": "989c5d90c966503bd99b033720aba8780b88b28b57de92f9b396923ee5cb6666"
  }
 },
 "nbformat": 4,
 "nbformat_minor": 2
}