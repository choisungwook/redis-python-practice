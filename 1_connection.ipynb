{
 "cells": [
  {
   "cell_type": "code",
   "execution_count": 1,
   "source": [
    "import redis"
   ],
   "outputs": [],
   "metadata": {}
  },
  {
   "cell_type": "code",
   "execution_count": 3,
   "source": [
    "host = \"127.0.0.1\"\r\n",
    "port = \"6379\"\r\n",
    "conn = redis.StrictRedis(\r\n",
    "    host = host,\r\n",
    "    port = port,\r\n",
    "    db = 0,\r\n",
    "    decode_responses=True\r\n",
    ")"
   ],
   "outputs": [],
   "metadata": {}
  },
  {
   "cell_type": "code",
   "execution_count": 10,
   "source": [
    "# reference: https://redis-py.readthedocs.io/en/stable/#redis.Redis.keys\r\n",
    "# return type: list\r\n",
    "keys = conn.keys()\r\n",
    "print(f\"keys type: {type(keys)}\")\r\n",
    "\r\n",
    "if len(keys) == 0:\r\n",
    "    print(\"empty keys\")"
   ],
   "outputs": [
    {
     "output_type": "stream",
     "name": "stdout",
     "text": [
      "keys type: <class 'list'>\n",
      "empty keys\n"
     ]
    }
   ],
   "metadata": {}
  }
 ],
 "metadata": {
  "orig_nbformat": 4,
  "language_info": {
   "name": "python",
   "version": "3.9.6",
   "mimetype": "text/x-python",
   "codemirror_mode": {
    "name": "ipython",
    "version": 3
   },
   "pygments_lexer": "ipython3",
   "nbconvert_exporter": "python",
   "file_extension": ".py"
  },
  "kernelspec": {
   "name": "python3",
   "display_name": "Python 3.9.6 64-bit ('vevn': venv)"
  },
  "interpreter": {
   "hash": "989c5d90c966503bd99b033720aba8780b88b28b57de92f9b396923ee5cb6666"
  }
 },
 "nbformat": 4,
 "nbformat_minor": 2
}